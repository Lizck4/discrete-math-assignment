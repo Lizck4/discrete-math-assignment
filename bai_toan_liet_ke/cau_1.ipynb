{
 "cells": [
  {
   "cell_type": "code",
   "execution_count": 1,
   "metadata": {},
   "outputs": [],
   "source": [
    "# Thuat toan sinh day nhi phan dai n\n",
    "def generate_binary_sequence(n):\n",
    "    if n <= 0:\n",
    "        return []\n",
    "    \n",
    "    result = []\n",
    "    generate_binary_sequence_recursive(n, result, \"\")\n",
    "    return result\n",
    "\n",
    "def generate_binary_sequence_recursive(n, result, prefix):\n",
    "    if n == 0:\n",
    "        result.append(prefix)\n",
    "        return\n",
    "    \n",
    "    generate_binary_sequence_recursive(n - 1, result, prefix + \"0\")\n",
    "    generate_binary_sequence_recursive(n - 1, result, prefix + \"1\")"
   ]
  }
 ],
 "metadata": {
  "kernelspec": {
   "display_name": "Python 3",
   "language": "python",
   "name": "python3"
  },
  "language_info": {
   "codemirror_mode": {
    "name": "ipython",
    "version": 3
   },
   "file_extension": ".py",
   "mimetype": "text/x-python",
   "name": "python",
   "nbconvert_exporter": "python",
   "pygments_lexer": "ipython3",
   "version": "3.11.5"
  },
  "orig_nbformat": 4
 },
 "nbformat": 4,
 "nbformat_minor": 2
}
