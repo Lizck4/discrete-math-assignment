{
 "cells": [
  {
   "cell_type": "code",
   "execution_count": null,
   "metadata": {},
   "outputs": [],
   "source": [
    "# Thuat toan sinh day nhi phan dai n\n",
    "def generate_binary_sequence(n):\n",
    "    if n <= 0:\n",
    "        return []\n",
    "    \n",
    "    result = []\n",
    "    generate_binary_sequence_recursive(n, result, \"\")\n",
    "    return result\n",
    "\n",
    "def generate_binary_sequence_recursive(n, result, prefix):\n",
    "    if n == 0:\n",
    "        result.append(prefix)\n",
    "        return\n",
    "    \n",
    "    generate_binary_sequence_recursive(n - 1, result, prefix + \"0\")\n",
    "    generate_binary_sequence_recursive(n - 1, result, prefix + \"1\")"
   ]
  }
 ],
 "metadata": {
  "language_info": {
   "name": "python"
  },
  "orig_nbformat": 4
 },
 "nbformat": 4,
 "nbformat_minor": 2
}
