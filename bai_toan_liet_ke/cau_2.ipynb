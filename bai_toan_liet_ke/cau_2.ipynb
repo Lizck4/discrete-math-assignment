{
 "cells": [
  {
   "cell_type": "code",
   "execution_count": null,
   "metadata": {},
   "outputs": [],
   "source": [
    "# Thuật toán sinh tất cả các hoán vị của n phần tử\n",
    "def generate_permutations(n):\n",
    "    # Tạo một danh sách chứa các số từ 1 đến n\n",
    "    elements = list(range(1, n + 1))\n",
    "    \n",
    "    # Khởi tạo một danh sách kết quả rỗng\n",
    "    result = []\n",
    "    \n",
    "    # Gọi hàm đệ quy để sinh hoán vị\n",
    "    generate_permutations_recursive(elements, 0, [], result)\n",
    "    \n",
    "def generate_permutations_recursive(elements, current_index, result):\n",
    "    if current_index == len(elements) - 1:\n",
    "        # Nếu đã đến cuối danh sách, thêm một hoán vị mới vào danh sách kết quả\n",
    "        result.append(elements.copy())\n",
    "        return\n",
    "\n",
    "    for i in range(current_index, len(elements)):\n",
    "        # Hoán đổi phần tử hiện tại với mỗi phần tử sau nó\n",
    "        elements[current_index], elements[i] = elements[i], elements[current_index]\n",
    "        \n",
    "        # Gọi đệ quy để tiếp tục sinh hoán vị với các phần tử còn lại\n",
    "        generate_permutations_recursive(elements, current_index + 1, result)\n",
    "        \n",
    "        # Hoàn tác hoán đổi để quay lại trạng thái trước đó\n",
    "        elements[current_index], elements[i] = elements[i], elements[current_index]"
   ]
  }
 ],
 "metadata": {
  "language_info": {
   "name": "python"
  },
  "orig_nbformat": 4
 },
 "nbformat": 4,
 "nbformat_minor": 2
}
