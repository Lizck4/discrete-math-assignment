{
 "cells": [
  {
   "cell_type": "code",
   "execution_count": null,
   "metadata": {},
   "outputs": [],
   "source": [
    "from pulp import *\n",
    "\n",
    "# Số thứ tự nhóm\n",
    "i = 0\n",
    "\n",
    "# Khởi tạo bài toán\n",
    "prob = LpProblem(\"BaiToanTui\", LpMaximize)\n",
    "\n",
    "# Biến quyết định\n",
    "x = [LpVariable(f\"x{i}\", cat=\"Binary\") for i in range(1, 11)]\n",
    "\n",
    "# Hàm mục tiêu\n",
    "prob += 30*x[0] + 19*x[1] + 13*x[2] + 38*x[3] + 20*x[4] + 6*x[5] + 8*x[6] + 19*x[7] + 10*x[8] + 11*x[9], \"f(x)\"\n",
    "\n",
    "# Ràng buộc\n",
    "prob += 15*x[0] + 12*x[1] + 9*x[2] + 27*x[3] + 15*x[4] + 5*x[5] + 8*x[6] + 20*x[7] + 12*x[8] + 15*x[9] <= 62 + 2*i, \"RangBuoc\"\n",
    "\n",
    "# Giải bài toán\n",
    "prob.solve()\n",
    "\n",
    "# In kết quả\n",
    "print(\"Status:\", LpStatus[prob.status])\n",
    "print(\"Giá trị tối ưu của f(x):\", value(prob.objective))\n",
    "for i, var in enumerate(x, 1):\n",
    "    print(f\"Giá trị của x{i}: {value(var)}\")"
   ]
  }
 ],
 "metadata": {
  "language_info": {
   "name": "python"
  },
  "orig_nbformat": 4
 },
 "nbformat": 4,
 "nbformat_minor": 2
}
