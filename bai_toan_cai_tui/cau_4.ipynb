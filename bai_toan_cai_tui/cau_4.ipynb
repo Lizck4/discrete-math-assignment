{
 "cells": [
  {
   "cell_type": "code",
   "execution_count": 1,
   "metadata": {},
   "outputs": [
    {
     "name": "stdout",
     "output_type": "stream",
     "text": [
      "Cost matrix:\n",
      "[0, 73, 98, 9, 33]\n",
      "[16, 0, 98, 58, 61]\n",
      "[84, 49, 0, 13, 63]\n",
      "[4, 50, 56, 0, 98]\n",
      "[99, 1, 90, 58, 0]\n"
     ]
    },
    {
     "ename": "TypeError",
     "evalue": "unsupported operand type(s) for -: 'builtin_function_or_method' and 'int'",
     "output_type": "error",
     "traceback": [
      "\u001b[0;31m---------------------------------------------------------------------------\u001b[0m",
      "\u001b[0;31mTypeError\u001b[0m                                 Traceback (most recent call last)",
      "Cell \u001b[0;32mIn[1], line 47\u001b[0m\n\u001b[1;32m     44\u001b[0m     \u001b[39mprint\u001b[39m(min_path \u001b[39m+\u001b[39m [start_node])\n\u001b[1;32m     45\u001b[0m     \u001b[39mprint\u001b[39m(\u001b[39m\"\u001b[39m\u001b[39mOptimal Cost:\u001b[39m\u001b[39m\"\u001b[39m, min_cost)\n\u001b[0;32m---> 47\u001b[0m traveling_salesman(matrix)\n",
      "Cell \u001b[0;32mIn[1], line 41\u001b[0m, in \u001b[0;36mtraveling_salesman\u001b[0;34m(matrix)\u001b[0m\n\u001b[1;32m     39\u001b[0m min_path \u001b[39m=\u001b[39m []\n\u001b[1;32m     40\u001b[0m start_node \u001b[39m=\u001b[39m \u001b[39m0\u001b[39m\n\u001b[0;32m---> 41\u001b[0m dfs(start_node, [start_node], [start_node], \u001b[39m0\u001b[39;49m, \u001b[39msum\u001b[39;49m(matrix[start_node]) \u001b[39m-\u001b[39;49m matrix[start_node][start_node])\n\u001b[1;32m     43\u001b[0m \u001b[39mprint\u001b[39m(\u001b[39m\"\u001b[39m\u001b[39mn\u001b[39m\u001b[39m\\\u001b[39m\u001b[39mOptimal Tour:\u001b[39m\u001b[39m\"\u001b[39m)\n\u001b[1;32m     44\u001b[0m \u001b[39mprint\u001b[39m(min_path \u001b[39m+\u001b[39m [start_node])\n",
      "Cell \u001b[0;32mIn[1], line 34\u001b[0m, in \u001b[0;36mtraveling_salesman.<locals>.dfs\u001b[0;34m(node, visited, path, cost, bound)\u001b[0m\n\u001b[1;32m     32\u001b[0m \u001b[39mfor\u001b[39;00m next_node \u001b[39min\u001b[39;00m cities:\n\u001b[1;32m     33\u001b[0m     \u001b[39mif\u001b[39;00m next_node \u001b[39mnot\u001b[39;00m \u001b[39min\u001b[39;00m visited:\n\u001b[0;32m---> 34\u001b[0m         new_bound \u001b[39m=\u001b[39m bound \u001b[39m-\u001b[39m matrix[node][path[\u001b[39m-\u001b[39m\u001b[39m1\u001b[39m]] \u001b[39m-\u001b[39m \u001b[39mmin\u001b[39m(matrix[\u001b[39mnext\u001b[39;49m\u001b[39m-\u001b[39;49mnode])\n\u001b[1;32m     35\u001b[0m         \u001b[39mif\u001b[39;00m cost \u001b[39m+\u001b[39m matrix[node][next_node] \u001b[39m+\u001b[39m new_bound \u001b[39m<\u001b[39m min_cost:\n\u001b[1;32m     36\u001b[0m             \u001b[39m# Nếu chi phí hiện tại và ước lượng tối ưu có thể cắt nhánh\u001b[39;00m\n\u001b[1;32m     37\u001b[0m             dfs(next_node, visited \u001b[39m+\u001b[39m [next_node], path \u001b[39m+\u001b[39m [next_node], cost \u001b[39m+\u001b[39m matrix[node][next_node], new_bound)\n",
      "\u001b[0;31mTypeError\u001b[0m: unsupported operand type(s) for -: 'builtin_function_or_method' and 'int'"
     ]
    }
   ],
   "source": [
    "import random\n",
    "\n",
    "# Define the matrix size\n",
    "n = 5\n",
    "coefficient = 1\n",
    "random.seed(coefficient)\n",
    "matrix = [[random.randint(1, 100) for j in range(n)] for i in range(n)]\n",
    "for i in range(n):\n",
    "    matrix[i][i] = 0\n",
    "    \n",
    "# Print the matrix\n",
    "print(\"Cost matrix:\")\n",
    "for row in matrix:\n",
    "    print(row)\n",
    "    \n",
    "def traveling_salesman(matrix):\n",
    "    n = len(matrix)\n",
    "    cities = list(range(n))\n",
    "    \n",
    "    def dfs(node, visited, path, cost, bound):\n",
    "        nonlocal min_cost, min_path\n",
    "        \n",
    "        if len(visited) == n:\n",
    "            # If all cities are visited\n",
    "            cost += matrix[node][path[0]] # return to the starting city\n",
    "            if cost < min_cost:\n",
    "                min_cost = cost\n",
    "                min_path = path[:]\n",
    "            return\n",
    "        \n",
    "        # If not all cities are visited\n",
    "        for next_node in cities:\n",
    "            if next_node not in visited:\n",
    "                new_bound = bound - matrix[node][path[-1]] - min(matrix[next-node])\n",
    "                if cost + matrix[node][next_node] + new_bound < min_cost:\n",
    "                    # Nếu chi phí hiện tại và ước lượng tối ưu có thể cắt nhánh\n",
    "                    dfs(next_node, visited + [next_node], path + [next_node], cost + matrix[node][next_node], new_bound)\n",
    "    min_cost = float('inf')\n",
    "    min_path = []\n",
    "    start_node = 0\n",
    "    dfs(start_node, [start_node], [start_node], 0, sum(matrix[start_node]) - matrix[start_node][start_node])\n",
    "    \n",
    "    print(\"n\\Optimal Tour:\")\n",
    "    print(min_path + [start_node])\n",
    "    print(\"Optimal Cost:\", min_cost)\n",
    "    \n",
    "traveling_salesman(matrix)"
   ]
  }
 ],
 "metadata": {
  "kernelspec": {
   "display_name": "Python 3",
   "language": "python",
   "name": "python3"
  },
  "language_info": {
   "codemirror_mode": {
    "name": "ipython",
    "version": 3
   },
   "file_extension": ".py",
   "mimetype": "text/x-python",
   "name": "python",
   "nbconvert_exporter": "python",
   "pygments_lexer": "ipython3",
   "version": "3.11.5"
  },
  "orig_nbformat": 4
 },
 "nbformat": 4,
 "nbformat_minor": 2
}
