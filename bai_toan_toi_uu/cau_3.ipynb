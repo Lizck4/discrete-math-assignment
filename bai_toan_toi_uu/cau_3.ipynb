{
 "cells": [
  {
   "cell_type": "code",
   "execution_count": 1,
   "metadata": {},
   "outputs": [
    {
     "name": "stdout",
     "output_type": "stream",
     "text": [
      "Pack  0  - Weight  15  - Value  30\n",
      "Pack  0  - Weight  15  - Value  30\n",
      "Pack  0  - Weight  15  - Value  30\n",
      "Pack  0  - Weight  15  - Value  30\n",
      "Pack  2  - Weight  9  - Value  13\n",
      "Max Value:  133\n",
      "Weight:  69\n"
     ]
    }
   ],
   "source": [
    "class KnapsackPackage(object):\n",
    "    \"\"\" Knapsack Package Data Class \"\"\"\n",
    "    def __init__(self, weight, value):\n",
    "        self.weight = weight\n",
    "        self.value = value\n",
    "        self.cost = value / weight\n",
    "    \n",
    "    def __lt__(self, other):\n",
    "        return self.cost < other.cost\n",
    "\n",
    "class FractionalKnapsack(object):\n",
    "    def knapsackGreProc(self, W, V, M, n):\n",
    "        packs = []\n",
    "        for i in range(n):\n",
    "            packs.append(KnapsackPackage(W[i], V[i]))\n",
    "        packs.sort(reverse=True)\n",
    "        remain = M\n",
    "        result = 0\n",
    "        i = 0\n",
    "        stopProc = False\n",
    "        while not stopProc:\n",
    "            if packs[i].weight <= remain:\n",
    "                remain -= packs[i].weight\n",
    "                result += packs[i].value\n",
    "                print(\"Pack \", i, \" - Weight \", packs[i].weight, \" - Value \", packs[i].value)\n",
    "            if packs[i].weight > remain:\n",
    "                i += 1\n",
    "            if i == n:\n",
    "                stopProc = True\n",
    "        print(\"Max Value: \", result)\n",
    "        print(\"Weight: \", M - remain)\n",
    "\n",
    "if __name__ == \"__main__\":\n",
    "    V = [30, 19, 13, 38, 20, 6, 8, 19, 10, 11] # Item values\n",
    "    W = [15, 12, 9, 27, 15, 5, 8, 20, 12, 15] # Item weights\n",
    "    M = 70 # Max weight\n",
    "    n = 10 # Number of items\n",
    "    proc = FractionalKnapsack()\n",
    "    proc.knapsackGreProc(W, V, M, n)"
   ]
  }
 ],
 "metadata": {
  "kernelspec": {
   "display_name": "Python 3",
   "language": "python",
   "name": "python3"
  },
  "language_info": {
   "codemirror_mode": {
    "name": "ipython",
    "version": 3
   },
   "file_extension": ".py",
   "mimetype": "text/x-python",
   "name": "python",
   "nbconvert_exporter": "python",
   "pygments_lexer": "ipython3",
   "version": "3.11.5"
  },
  "orig_nbformat": 4
 },
 "nbformat": 4,
 "nbformat_minor": 2
}
