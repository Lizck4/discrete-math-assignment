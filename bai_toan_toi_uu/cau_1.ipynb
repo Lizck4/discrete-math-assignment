{
 "cells": [
  {
   "cell_type": "code",
   "execution_count": 16,
   "metadata": {},
   "outputs": [
    {
     "name": "stdout",
     "output_type": "stream",
     "text": [
      "Pack  0  - Weight  5  - Value  10\n",
      "Pack  0  - Weight  5  - Value  10\n",
      "Pack  2  - Weight  2  - Value  3\n",
      "Max Value:  23\n",
      "Weight:  12\n"
     ]
    }
   ],
   "source": [
    "class KnapsackPackage(object):\n",
    "    \"\"\" Knapsack Package Data Class \"\"\"\n",
    "    def __init__(self, weight, value):\n",
    "        self.weight = weight\n",
    "        self.value = value\n",
    "        self.cost = value / weight\n",
    "    \n",
    "    def __lt__(self, other):\n",
    "        return self.cost < other.cost\n",
    "\n",
    "class FractionalKnapsack(object):\n",
    "    def knapsackGreProc(self, W, V, M, n):\n",
    "        packs = []\n",
    "        for i in range(n):\n",
    "            packs.append(KnapsackPackage(W[i], V[i]))\n",
    "        packs.sort(reverse=True)\n",
    "        remain = M\n",
    "        result = 0\n",
    "        i = 0\n",
    "        stopProc = False\n",
    "        while not stopProc:\n",
    "            if packs[i].weight <= remain:\n",
    "                remain -= packs[i].weight\n",
    "                result += packs[i].value\n",
    "                print(\"Pack \", i, \" - Weight \", packs[i].weight, \" - Value \", packs[i].value)\n",
    "            if packs[i].weight > remain:\n",
    "                i += 1\n",
    "            if i == n:\n",
    "                stopProc = True\n",
    "        print(\"Max Value: \", result)\n",
    "        print(\"Weight: \", M - remain)\n",
    "\n",
    "if __name__ == \"__main__\":\n",
    "    V = [10, 5, 3, 6] # Item values\n",
    "    W = [5, 3, 2, 4] # Item weights\n",
    "    M = 12 # Max weight\n",
    "    n = 4 # Number of items\n",
    "    proc = FractionalKnapsack()\n",
    "    proc.knapsackGreProc(W, V, M, n)"
   ]
  }
 ],
 "metadata": {
  "kernelspec": {
   "display_name": "Python 3",
   "language": "python",
   "name": "python3"
  },
  "language_info": {
   "codemirror_mode": {
    "name": "ipython",
    "version": 3
   },
   "file_extension": ".py",
   "mimetype": "text/x-python",
   "name": "python",
   "nbconvert_exporter": "python",
   "pygments_lexer": "ipython3",
   "version": "3.11.5"
  },
  "orig_nbformat": 4
 },
 "nbformat": 4,
 "nbformat_minor": 2
}
