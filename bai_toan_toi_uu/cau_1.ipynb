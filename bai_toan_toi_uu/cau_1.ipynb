{
 "cells": [
  {
   "cell_type": "code",
   "execution_count": null,
   "metadata": {},
   "outputs": [],
   "source": [
    "from pulp import *\n",
    "\n",
    "# Khởi tạo bài toán\n",
    "prob = LpProblem(\"BaiToanTui\", LpMaximize)\n",
    "\n",
    "# Biến quyết định\n",
    "x1 = LpVariable(\"x1\", lowBound=0, cat='Integer')\n",
    "x2 = LpVariable(\"x2\", lowBound=0, cat='Integer')\n",
    "x3 = LpVariable(\"x3\", lowBound=0, cat='Integer')\n",
    "x4 = LpVariable(\"x4\", lowBound=0, cat='Integer')\n",
    "\n",
    "# Hàm mục tiêu\n",
    "prob += 10*x1 + 5*x2 + 3*x3 + 6*x4, \"f(x)\"\n",
    "\n",
    "# Ràng buộc\n",
    "prob += 5*x1 + 3*x2 + 2*x3 + 4*x4 <= 8 + i, \"RangBuoc\"\n",
    "\n",
    "# Giải bài toán\n",
    "prob.solve()\n",
    "\n",
    "# In kết quả\n",
    "print(\"Status:\", LpStatus[prob.status])\n",
    "print(\"Giá trị tối ưu của f(x):\", value(prob.objective))\n",
    "print(\"Giá trị của x1:\", value(x1))\n",
    "print(\"Giá trị của x2:\", value(x2))\n",
    "print(\"Giá trị của x3:\", value(x3))\n",
    "print(\"Giá trị của x4:\", value(x4))"
   ]
  }
 ],
 "metadata": {
  "language_info": {
   "name": "python"
  },
  "orig_nbformat": 4
 },
 "nbformat": 4,
 "nbformat_minor": 2
}
