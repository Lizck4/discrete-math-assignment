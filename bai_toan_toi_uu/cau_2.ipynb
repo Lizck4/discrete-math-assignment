{
 "cells": [
  {
   "cell_type": "code",
   "execution_count": 4,
   "metadata": {},
   "outputs": [
    {
     "name": "stdout",
     "output_type": "stream",
     "text": [
      "Pack  0  - Weight  8  - Value  41\n",
      "Pack  0  - Weight  8  - Value  41\n",
      "Pack  0  - Weight  8  - Value  41\n",
      "Max Value:  123\n",
      "Weight:  24\n"
     ]
    }
   ],
   "source": [
    "class KnapsackPackage(object):\n",
    "    \"\"\" Knapsack Package Data Class \"\"\"\n",
    "    def __init__(self, weight, value):\n",
    "        self.weight = weight\n",
    "        self.value = value\n",
    "        self.cost = value / weight\n",
    "    \n",
    "    def __lt__(self, other):\n",
    "        return self.cost < other.cost\n",
    "\n",
    "class FractionalKnapsack(object):\n",
    "    def knapsackGreProc(self, W, V, M, n):\n",
    "        packs = []\n",
    "        for i in range(n):\n",
    "            packs.append(KnapsackPackage(W[i], V[i]))\n",
    "        packs.sort(reverse=True)\n",
    "        remain = M\n",
    "        result = 0\n",
    "        i = 0\n",
    "        stopProc = False\n",
    "        while not stopProc:\n",
    "            if packs[i].weight <= remain:\n",
    "                remain -= packs[i].weight\n",
    "                result += packs[i].value\n",
    "                print(\"Pack \", i, \" - Weight \", packs[i].weight, \" - Value \", packs[i].value)\n",
    "            if packs[i].weight > remain:\n",
    "                i += 1\n",
    "            if i == n:\n",
    "                stopProc = True\n",
    "        print(\"Max Value: \", result)\n",
    "        print(\"Weight: \", M - remain)\n",
    "\n",
    "if __name__ == \"__main__\":\n",
    "    V = [11, 18, 31, 41] # Item values\n",
    "    W = [3, 5, 7, 8] # Item weights\n",
    "    M = 25 # Max weight\n",
    "    n = 4 # Number of items\n",
    "    proc = FractionalKnapsack()\n",
    "    proc.knapsackGreProc(W, V, M, n)"
   ]
  }
 ],
 "metadata": {
  "language_info": {
   "name": "python"
  },
  "orig_nbformat": 4
 },
 "nbformat": 4,
 "nbformat_minor": 2
}
