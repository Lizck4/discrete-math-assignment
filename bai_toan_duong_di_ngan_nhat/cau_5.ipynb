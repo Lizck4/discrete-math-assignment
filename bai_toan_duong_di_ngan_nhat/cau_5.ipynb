{
 "cells": [
  {
   "cell_type": "code",
   "execution_count": 3,
   "metadata": {},
   "outputs": [
    {
     "name": "stdout",
     "output_type": "stream",
     "text": [
      "Nhập theo cú pháp: đỉnh bắt đầu 'cách' đỉnh kết thúc 'cách' trọng số. Nếu nhập hết rồi hãy ấn 'e' để đến bước tiếp theo:\n"
     ]
    },
    {
     "ename": "ValueError",
     "evalue": "not enough values to unpack (expected 3, got 0)",
     "output_type": "error",
     "traceback": [
      "\u001b[0;31m---------------------------------------------------------------------------\u001b[0m",
      "\u001b[0;31mValueError\u001b[0m                                Traceback (most recent call last)",
      "Cell \u001b[0;32mIn[3], line 50\u001b[0m\n\u001b[1;32m     47\u001b[0m         graph[start_vertex][end_vertex] \u001b[39m=\u001b[39m weight\n\u001b[1;32m     48\u001b[0m     \u001b[39mreturn\u001b[39;00m graph\n\u001b[0;32m---> 50\u001b[0m graph \u001b[39m=\u001b[39m input_graph()\n\u001b[1;32m     51\u001b[0m start_vertex \u001b[39m=\u001b[39m \u001b[39minput\u001b[39m(\u001b[39m\"\u001b[39m\u001b[39mNhập đỉnh bắt đầu: \u001b[39m\u001b[39m\"\u001b[39m)\n\u001b[1;32m     52\u001b[0m end_vertex \u001b[39m=\u001b[39m \u001b[39minput\u001b[39m(\u001b[39m\"\u001b[39m\u001b[39mNhập đỉnh kết thúc: \u001b[39m\u001b[39m\"\u001b[39m)\n",
      "Cell \u001b[0;32mIn[3], line 43\u001b[0m, in \u001b[0;36minput_graph\u001b[0;34m()\u001b[0m\n\u001b[1;32m     41\u001b[0m \u001b[39mif\u001b[39;00m edge \u001b[39m==\u001b[39m \u001b[39m'\u001b[39m\u001b[39me\u001b[39m\u001b[39m'\u001b[39m:\n\u001b[1;32m     42\u001b[0m     \u001b[39mbreak\u001b[39;00m\n\u001b[0;32m---> 43\u001b[0m start_vertex, end_vertex, weight \u001b[39m=\u001b[39m edge\u001b[39m.\u001b[39msplit()\n\u001b[1;32m     44\u001b[0m weight \u001b[39m=\u001b[39m \u001b[39mint\u001b[39m(weight)\n\u001b[1;32m     45\u001b[0m \u001b[39mif\u001b[39;00m start_vertex \u001b[39mnot\u001b[39;00m \u001b[39min\u001b[39;00m graph:\n",
      "\u001b[0;31mValueError\u001b[0m: not enough values to unpack (expected 3, got 0)"
     ]
    }
   ],
   "source": [
    "import sys\n",
    "def dijkstra(graph, start_vertex):\n",
    "    D = {v: float('inf') for v in graph}\n",
    "    D[start_vertex] = 0\n",
    "    \n",
    "    unseen_nodes = list(graph)\n",
    "    path = {}\n",
    "    \n",
    "    while unseen_nodes:\n",
    "        min_node = None\n",
    "        for node in unseen_nodes:\n",
    "            if min_node is None:\n",
    "                min_node = node\n",
    "            elif D[node] < D[min_node]:\n",
    "                min_node = node\n",
    "                \n",
    "        for child_node, weight in graph[min_node].items():\n",
    "            if weight + D[min_node] < D[child_node]:\n",
    "                D[child_node] = weight + D[min_node]\n",
    "                path[child_node] = min_node\n",
    "                \n",
    "        unseen_nodes.remove(min_node)\n",
    "        \n",
    "        return D, path\n",
    "\n",
    "def shortest_path(graph, start_vertex, end_vertex):\n",
    "    D, path = dijkstra(graph, start_vertex)\n",
    "    shortest_path = []\n",
    "    \n",
    "    while end_vertex is not None:\n",
    "        shortest_path.append(end_vertex)\n",
    "        end_vertex = path.get(end_vertex)\n",
    "        \n",
    "    return shortest_path[::-1]\n",
    "\n",
    "def input_graph():\n",
    "    graph = {}\n",
    "    while True:\n",
    "        print(\"Nhập theo cú pháp: đỉnh bắt đầu 'cách' đỉnh kết thúc 'cách' trọng số. Nếu nhập hết rồi hãy ấn 'e' để đến bước tiếp theo:\")\n",
    "        edge = input(\"Nhập cạnh: \")\n",
    "        if edge == 'e':\n",
    "            break\n",
    "        start_vertex, end_vertex, weight = edge.split()\n",
    "        weight = int(weight)\n",
    "        if start_vertex not in graph:\n",
    "            graph[start_vertex] = {}\n",
    "        graph[start_vertex][end_vertex] = weight\n",
    "    return graph\n",
    "\n",
    "graph = input_graph()\n",
    "start_vertex = input(\"Nhập đỉnh bắt đầu: \")\n",
    "end_vertex = input(\"Nhập đỉnh kết thúc: \")\n",
    "print(\"Đường đi ngắn nhất từ\", start_vertex, \"đến\", end_vertex, \"là: \", shortest_path(graph, start_vertex, end_vertex))"
   ]
  }
 ],
 "metadata": {
  "kernelspec": {
   "display_name": "Python 3",
   "language": "python",
   "name": "python3"
  },
  "language_info": {
   "codemirror_mode": {
    "name": "ipython",
    "version": 3
   },
   "file_extension": ".py",
   "mimetype": "text/x-python",
   "name": "python",
   "nbconvert_exporter": "python",
   "pygments_lexer": "ipython3",
   "version": "3.11.5"
  },
  "orig_nbformat": 4
 },
 "nbformat": 4,
 "nbformat_minor": 2
}
